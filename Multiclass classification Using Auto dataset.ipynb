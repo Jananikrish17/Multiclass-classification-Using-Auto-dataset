{
 "cells": [
  {
   "cell_type": "markdown",
   "metadata": {},
   "source": [
    "### Multiclass classification"
   ]
  },
  {
   "cell_type": "markdown",
   "metadata": {},
   "source": [
    "The dataset is hosted by the University of California Irvine on their \n",
    "[machine learning repository](https://archive.ics.uci.edu/ml/datasets/Auto+MPG)\n",
    "\n",
    "Here are the columns in the dataset:\n",
    "\n",
    "- mpg -- Miles per gallon, Continuous.\n",
    "- cylinders -- Number of cylinders in the motor, Integer, Ordinal, and Categorical.\n",
    "- displacement -- Size of the motor, Continuous.\n",
    "- horsepower -- Horsepower produced, Continuous.\n",
    "- weight -- Weights of the car, Continuous.\n",
    "- acceleration -- Acceleration, Continuous.\n",
    "- year -- Year the car was built, Integer and Categorical.\n",
    "- origin -- Integer and Categorical. 1: North America, 2: Europe, 3: Asia.\n",
    "\n",
    "Using this information we will predict the origin of the vehicle, either North America, Europe, or Asia"
   ]
  },
  {
   "cell_type": "code",
   "execution_count": 1,
   "metadata": {
    "scrolled": true
   },
   "outputs": [
    {
     "data": {
      "text/html": [
       "<div>\n",
       "<style scoped>\n",
       "    .dataframe tbody tr th:only-of-type {\n",
       "        vertical-align: middle;\n",
       "    }\n",
       "\n",
       "    .dataframe tbody tr th {\n",
       "        vertical-align: top;\n",
       "    }\n",
       "\n",
       "    .dataframe thead th {\n",
       "        text-align: right;\n",
       "    }\n",
       "</style>\n",
       "<table border=\"1\" class=\"dataframe\">\n",
       "  <thead>\n",
       "    <tr style=\"text-align: right;\">\n",
       "      <th></th>\n",
       "      <th>mpg</th>\n",
       "      <th>cylinders</th>\n",
       "      <th>displacement</th>\n",
       "      <th>horsepower</th>\n",
       "      <th>weight</th>\n",
       "      <th>acceleration</th>\n",
       "      <th>year</th>\n",
       "      <th>origin</th>\n",
       "    </tr>\n",
       "  </thead>\n",
       "  <tbody>\n",
       "    <tr>\n",
       "      <th>0</th>\n",
       "      <td>18.0</td>\n",
       "      <td>8</td>\n",
       "      <td>307.0</td>\n",
       "      <td>130.0</td>\n",
       "      <td>3504.0</td>\n",
       "      <td>12.0</td>\n",
       "      <td>70</td>\n",
       "      <td>1</td>\n",
       "    </tr>\n",
       "    <tr>\n",
       "      <th>1</th>\n",
       "      <td>15.0</td>\n",
       "      <td>8</td>\n",
       "      <td>350.0</td>\n",
       "      <td>165.0</td>\n",
       "      <td>3693.0</td>\n",
       "      <td>11.5</td>\n",
       "      <td>70</td>\n",
       "      <td>1</td>\n",
       "    </tr>\n",
       "    <tr>\n",
       "      <th>2</th>\n",
       "      <td>18.0</td>\n",
       "      <td>8</td>\n",
       "      <td>318.0</td>\n",
       "      <td>150.0</td>\n",
       "      <td>3436.0</td>\n",
       "      <td>11.0</td>\n",
       "      <td>70</td>\n",
       "      <td>1</td>\n",
       "    </tr>\n",
       "    <tr>\n",
       "      <th>3</th>\n",
       "      <td>16.0</td>\n",
       "      <td>8</td>\n",
       "      <td>304.0</td>\n",
       "      <td>150.0</td>\n",
       "      <td>3433.0</td>\n",
       "      <td>12.0</td>\n",
       "      <td>70</td>\n",
       "      <td>1</td>\n",
       "    </tr>\n",
       "    <tr>\n",
       "      <th>4</th>\n",
       "      <td>17.0</td>\n",
       "      <td>8</td>\n",
       "      <td>302.0</td>\n",
       "      <td>140.0</td>\n",
       "      <td>3449.0</td>\n",
       "      <td>10.5</td>\n",
       "      <td>70</td>\n",
       "      <td>1</td>\n",
       "    </tr>\n",
       "  </tbody>\n",
       "</table>\n",
       "</div>"
      ],
      "text/plain": [
       "    mpg  cylinders  displacement  horsepower  weight  acceleration  year  \\\n",
       "0  18.0          8         307.0       130.0  3504.0          12.0    70   \n",
       "1  15.0          8         350.0       165.0  3693.0          11.5    70   \n",
       "2  18.0          8         318.0       150.0  3436.0          11.0    70   \n",
       "3  16.0          8         304.0       150.0  3433.0          12.0    70   \n",
       "4  17.0          8         302.0       140.0  3449.0          10.5    70   \n",
       "\n",
       "   origin  \n",
       "0       1  \n",
       "1       1  \n",
       "2       1  \n",
       "3       1  \n",
       "4       1  "
      ]
     },
     "execution_count": 1,
     "metadata": {},
     "output_type": "execute_result"
    }
   ],
   "source": [
    "import pandas as pd\n",
    "import numpy as np\n",
    "from sklearn.linear_model import LogisticRegression\n",
    "from sklearn.linear_model import LinearRegression\n",
    "from sklearn.metrics import mean_squared_error\n",
    "from sklearn.model_selection import KFold \n",
    "import matplotlib.pyplot as plt\n",
    "cars = pd.read_csv(\"auto.csv\")\n",
    "cars.head()"
   ]
  },
  {
   "cell_type": "code",
   "execution_count": 2,
   "metadata": {
    "scrolled": true
   },
   "outputs": [
    {
     "data": {
      "text/plain": [
       "(392, 8)"
      ]
     },
     "execution_count": 2,
     "metadata": {},
     "output_type": "execute_result"
    }
   ],
   "source": [
    "cars.shape"
   ]
  },
  {
   "cell_type": "code",
   "execution_count": 3,
   "metadata": {
    "scrolled": true
   },
   "outputs": [
    {
     "name": "stdout",
     "output_type": "stream",
     "text": [
      "[1 3 2]\n"
     ]
    }
   ],
   "source": [
    "#origin -- Integer and Categorical. 1: North America, 2: Europe, 3: Asia.\n",
    "\n",
    "unique_regions= cars['origin'].unique()\n",
    "print(unique_regions)"
   ]
  },
  {
   "cell_type": "markdown",
   "metadata": {},
   "source": [
    "In this dataset cylnder, year, origin are categorical columns and they must be converted to numeric values so we can use them to predict label origin."
   ]
  },
  {
   "cell_type": "markdown",
   "metadata": {},
   "source": [
    "#### Adding dummy variables\n",
    " A dummy variable that takes the value of  0 or  1 to indicate the absence or presence of values that of some categorical effect that may be expected to shift the outcome."
   ]
  },
  {
   "cell_type": "code",
   "execution_count": 4,
   "metadata": {
    "scrolled": true
   },
   "outputs": [
    {
     "name": "stdout",
     "output_type": "stream",
     "text": [
      "    mpg  displacement  horsepower  weight  acceleration  origin  cyl_3  cyl_4  \\\n",
      "0  18.0         307.0       130.0  3504.0          12.0       1      0      0   \n",
      "1  15.0         350.0       165.0  3693.0          11.5       1      0      0   \n",
      "2  18.0         318.0       150.0  3436.0          11.0       1      0      0   \n",
      "3  16.0         304.0       150.0  3433.0          12.0       1      0      0   \n",
      "4  17.0         302.0       140.0  3449.0          10.5       1      0      0   \n",
      "\n",
      "   cyl_5  cyl_6  ...  year_73  year_74  year_75  year_76  year_77  year_78  \\\n",
      "0      0      0  ...        0        0        0        0        0        0   \n",
      "1      0      0  ...        0        0        0        0        0        0   \n",
      "2      0      0  ...        0        0        0        0        0        0   \n",
      "3      0      0  ...        0        0        0        0        0        0   \n",
      "4      0      0  ...        0        0        0        0        0        0   \n",
      "\n",
      "   year_79  year_80  year_81  year_82  \n",
      "0        0        0        0        0  \n",
      "1        0        0        0        0  \n",
      "2        0        0        0        0  \n",
      "3        0        0        0        0  \n",
      "4        0        0        0        0  \n",
      "\n",
      "[5 rows x 24 columns]\n"
     ]
    }
   ],
   "source": [
    "dummy_cylinders = pd.get_dummies(cars['cylinders'],prefix='cyl')\n",
    "cars=pd.concat([cars, dummy_cylinders], axis=1)\n",
    "\n",
    "dummy_year=pd.get_dummies(cars['year'], prefix='year')\n",
    "cars=pd.concat([cars, dummy_year], axis=1)\n",
    "\n",
    "cars = cars.drop(['year', 'cylinders'], axis=1)\n",
    "print(cars.head())"
   ]
  },
  {
   "cell_type": "markdown",
   "metadata": {},
   "source": [
    "#### Multiclass classification\n",
    "\n",
    "In this dataset the binary classsification have 3 or more categories, called multiclass classification problem, for multiclass classsification we can use __The one versus -all method__ technique, where we can choose single category as the true case (positive) and group the rest of the categories as the false.Splitting the  multiclass classification problem into multiple binary classification problems, For each observation, the model will then output the probability of belonging to each category.\n",
    "\n",
    "\n",
    "Spliting the data into training set and test set\n",
    "\n",
    "- first 70% as train set\n",
    "- last 30%  as test set\n",
    "\n"
   ]
  },
  {
   "cell_type": "code",
   "execution_count": 5,
   "metadata": {},
   "outputs": [],
   "source": [
    "# shuffled Dataframe to shuffled_cars\n",
    "shuffled_index= np.random.permutation(cars.index)\n",
    "shuffled_cars = cars.iloc[shuffled_index]\n",
    "\n",
    "#splitting the data from shuffled_cars\n",
    "highest_train_row= int(cars.shape[0] *.70)\n",
    "\n",
    "train = shuffled_cars.iloc[0:highest_train_row]\n",
    "test = shuffled_cars.iloc[highest_train_row:]"
   ]
  },
  {
   "cell_type": "code",
   "execution_count": 6,
   "metadata": {
    "scrolled": true
   },
   "outputs": [
    {
     "name": "stdout",
     "output_type": "stream",
     "text": [
      "      mpg  displacement  horsepower  weight  acceleration  origin  cyl_3  \\\n",
      "153  15.0         250.0        72.0  3158.0          19.5       1      0   \n",
      "237  30.0          97.0        67.0  1985.0          16.4       3      0   \n",
      "326  30.0         146.0        67.0  3250.0          21.8       2      0   \n",
      "161  18.0         225.0        95.0  3785.0          19.0       1      0   \n",
      "60   21.0         122.0        86.0  2226.0          16.5       1      0   \n",
      "\n",
      "     cyl_4  cyl_5  cyl_6  ...  year_73  year_74  year_75  year_76  year_77  \\\n",
      "153      0      0      1  ...        0        0        1        0        0   \n",
      "237      1      0      0  ...        0        0        0        0        1   \n",
      "326      1      0      0  ...        0        0        0        0        0   \n",
      "161      0      0      1  ...        0        0        1        0        0   \n",
      "60       1      0      0  ...        0        0        0        0        0   \n",
      "\n",
      "     year_78  year_79  year_80  year_81  year_82  \n",
      "153        0        0        0        0        0  \n",
      "237        0        0        0        0        0  \n",
      "326        0        0        1        0        0  \n",
      "161        0        0        0        0        0  \n",
      "60         0        0        0        0        0  \n",
      "\n",
      "[5 rows x 24 columns]\n",
      "      mpg  displacement  horsepower  weight  acceleration  origin  cyl_3  \\\n",
      "369  36.0         105.0        74.0  1980.0          15.3       2      0   \n",
      "244  32.8          78.0        52.0  1985.0          19.4       3      0   \n",
      "277  29.5          98.0        68.0  2135.0          16.6       3      0   \n",
      "299  34.2         105.0        70.0  2200.0          13.2       1      0   \n",
      "190  22.0         250.0       105.0  3353.0          14.5       1      0   \n",
      "\n",
      "     cyl_4  cyl_5  cyl_6  ...  year_73  year_74  year_75  year_76  year_77  \\\n",
      "369      1      0      0  ...        0        0        0        0        0   \n",
      "244      1      0      0  ...        0        0        0        0        0   \n",
      "277      1      0      0  ...        0        0        0        0        0   \n",
      "299      1      0      0  ...        0        0        0        0        0   \n",
      "190      0      0      1  ...        0        0        0        1        0   \n",
      "\n",
      "     year_78  year_79  year_80  year_81  year_82  \n",
      "369        0        0        0        0        1  \n",
      "244        1        0        0        0        0  \n",
      "277        1        0        0        0        0  \n",
      "299        0        1        0        0        0  \n",
      "190        0        0        0        0        0  \n",
      "\n",
      "[5 rows x 24 columns]\n"
     ]
    }
   ],
   "source": [
    "print(train.head())\n",
    "print(test.head())"
   ]
  },
  {
   "cell_type": "markdown",
   "metadata": {},
   "source": [
    "#### Training a multiclass  logistic regression model using one-vs-all approach\n",
    "\n",
    "In one-vs-all approach we are converting an n-class(in this dataset it's 3) classification problem into n binary classification problem, in this case we need to train 3 model.Each of this model is a binary classification model that will return a probability between 0 and 1\n",
    "\n",
    "Dummy variables cylinders and  year columns to train 3 models using the LogisticRegression class from scikit-learn."
   ]
  },
  {
   "cell_type": "markdown",
   "metadata": {},
   "source": [
    "From each value in the origin column we are going to train a logistic regression model"
   ]
  },
  {
   "cell_type": "code",
   "execution_count": 7,
   "metadata": {
    "scrolled": false
   },
   "outputs": [
    {
     "data": {
      "text/plain": [
       "array([1, 2, 3], dtype=int64)"
      ]
     },
     "execution_count": 7,
     "metadata": {},
     "output_type": "execute_result"
    }
   ],
   "source": [
    "unique_origins= cars['origin'].unique()\n",
    "unique_origins.sort()\n",
    "unique_origins"
   ]
  },
  {
   "cell_type": "markdown",
   "metadata": {},
   "source": [
    "To train a logistic regression model required parameters are independent columns like cylinder and year and the binary classification columns.\n",
    "\n",
    "Each of these models is a binary classification model that will return a probability between 0 and 1 and we apply this model into test data we will get a probability value will be returned from each model (3 total). \n",
    "\n",
    "For each observation, we choose the label corresponding to the model that predicted the highest probability"
   ]
  },
  {
   "cell_type": "markdown",
   "metadata": {},
   "source": [
    "Two parameters for train a logistic regression model with the following parameters:\n",
    "\n",
    "1) features contains dummy variable column"
   ]
  },
  {
   "cell_type": "code",
   "execution_count": 8,
   "metadata": {
    "scrolled": true
   },
   "outputs": [
    {
     "name": "stderr",
     "output_type": "stream",
     "text": [
      "C:\\Users\\Akshaya_Aadithya\\Anaconda3\\lib\\site-packages\\sklearn\\linear_model\\logistic.py:433: FutureWarning: Default solver will be changed to 'lbfgs' in 0.22. Specify a solver to silence this warning.\n",
      "  FutureWarning)\n",
      "C:\\Users\\Akshaya_Aadithya\\Anaconda3\\lib\\site-packages\\sklearn\\linear_model\\logistic.py:433: FutureWarning: Default solver will be changed to 'lbfgs' in 0.22. Specify a solver to silence this warning.\n",
      "  FutureWarning)\n",
      "C:\\Users\\Akshaya_Aadithya\\Anaconda3\\lib\\site-packages\\sklearn\\linear_model\\logistic.py:433: FutureWarning: Default solver will be changed to 'lbfgs' in 0.22. Specify a solver to silence this warning.\n",
      "  FutureWarning)\n"
     ]
    },
    {
     "data": {
      "text/plain": [
       "{1: LogisticRegression(C=1.0, class_weight=None, dual=False, fit_intercept=True,\n",
       "           intercept_scaling=1, max_iter=100, multi_class='warn',\n",
       "           n_jobs=None, penalty='l2', random_state=None, solver='warn',\n",
       "           tol=0.0001, verbose=0, warm_start=False),\n",
       " 2: LogisticRegression(C=1.0, class_weight=None, dual=False, fit_intercept=True,\n",
       "           intercept_scaling=1, max_iter=100, multi_class='warn',\n",
       "           n_jobs=None, penalty='l2', random_state=None, solver='warn',\n",
       "           tol=0.0001, verbose=0, warm_start=False),\n",
       " 3: LogisticRegression(C=1.0, class_weight=None, dual=False, fit_intercept=True,\n",
       "           intercept_scaling=1, max_iter=100, multi_class='warn',\n",
       "           n_jobs=None, penalty='l2', random_state=None, solver='warn',\n",
       "           tol=0.0001, verbose=0, warm_start=False)}"
      ]
     },
     "execution_count": 8,
     "metadata": {},
     "output_type": "execute_result"
    }
   ],
   "source": [
    "models={}\n",
    "features = [c for c in train.columns if c.startswith('cyl') or c.startswith('year')]\n",
    "for origin in unique_origins:\n",
    "    model= LogisticRegression()\n",
    "    X_train= train[features]\n",
    "    Y_train = train['origin']==origin\n",
    "    \n",
    "    model.fit(X_train, Y_train)\n",
    "    models[origin]= model\n",
    "models"
   ]
  },
  {
   "cell_type": "markdown",
   "metadata": {},
   "source": [
    "Now we have 3 model for each category in the origin column.Run the test set through the models and evaluate how well they performed."
   ]
  },
  {
   "cell_type": "code",
   "execution_count": 9,
   "metadata": {
    "scrolled": true
   },
   "outputs": [
    {
     "data": {
      "text/html": [
       "<div>\n",
       "<style scoped>\n",
       "    .dataframe tbody tr th:only-of-type {\n",
       "        vertical-align: middle;\n",
       "    }\n",
       "\n",
       "    .dataframe tbody tr th {\n",
       "        vertical-align: top;\n",
       "    }\n",
       "\n",
       "    .dataframe thead th {\n",
       "        text-align: right;\n",
       "    }\n",
       "</style>\n",
       "<table border=\"1\" class=\"dataframe\">\n",
       "  <thead>\n",
       "    <tr style=\"text-align: right;\">\n",
       "      <th></th>\n",
       "      <th>1</th>\n",
       "      <th>2</th>\n",
       "      <th>3</th>\n",
       "    </tr>\n",
       "  </thead>\n",
       "  <tbody>\n",
       "    <tr>\n",
       "      <th>0</th>\n",
       "      <td>0.537319</td>\n",
       "      <td>0.122395</td>\n",
       "      <td>0.355282</td>\n",
       "    </tr>\n",
       "    <tr>\n",
       "      <th>1</th>\n",
       "      <td>0.310170</td>\n",
       "      <td>0.322736</td>\n",
       "      <td>0.356548</td>\n",
       "    </tr>\n",
       "    <tr>\n",
       "      <th>2</th>\n",
       "      <td>0.310170</td>\n",
       "      <td>0.322736</td>\n",
       "      <td>0.356548</td>\n",
       "    </tr>\n",
       "    <tr>\n",
       "      <th>3</th>\n",
       "      <td>0.445181</td>\n",
       "      <td>0.327703</td>\n",
       "      <td>0.216754</td>\n",
       "    </tr>\n",
       "    <tr>\n",
       "      <th>4</th>\n",
       "      <td>0.884889</td>\n",
       "      <td>0.072986</td>\n",
       "      <td>0.062930</td>\n",
       "    </tr>\n",
       "  </tbody>\n",
       "</table>\n",
       "</div>"
      ],
      "text/plain": [
       "          1         2         3\n",
       "0  0.537319  0.122395  0.355282\n",
       "1  0.310170  0.322736  0.356548\n",
       "2  0.310170  0.322736  0.356548\n",
       "3  0.445181  0.327703  0.216754\n",
       "4  0.884889  0.072986  0.062930"
      ]
     },
     "execution_count": 9,
     "metadata": {},
     "output_type": "execute_result"
    }
   ],
   "source": [
    "testing_probs = pd.DataFrame(columns=unique_origins)\n",
    "                          \n",
    "for origin in unique_origins:\n",
    "    X_test=test[features]\n",
    "    \n",
    "    testing_probs[origin]= models[origin].predict_proba(X_test)[:,1]\n",
    "testing_probs.head()"
   ]
  },
  {
   "cell_type": "markdown",
   "metadata": {},
   "source": [
    "Above the model is trained and computed the probabilities in each origin.Classify the each observations, To classify each observation need to select the origin with the highest probability of classification for that observation."
   ]
  },
  {
   "cell_type": "code",
   "execution_count": 10,
   "metadata": {
    "scrolled": true
   },
   "outputs": [
    {
     "name": "stdout",
     "output_type": "stream",
     "text": [
      "0      1\n",
      "1      3\n",
      "2      3\n",
      "3      1\n",
      "4      1\n",
      "5      1\n",
      "6      1\n",
      "7      1\n",
      "8      1\n",
      "9      1\n",
      "10     2\n",
      "11     1\n",
      "12     1\n",
      "13     1\n",
      "14     2\n",
      "15     1\n",
      "16     1\n",
      "17     3\n",
      "18     1\n",
      "19     1\n",
      "20     3\n",
      "21     1\n",
      "22     1\n",
      "23     1\n",
      "24     3\n",
      "25     2\n",
      "26     1\n",
      "27     1\n",
      "28     1\n",
      "29     3\n",
      "      ..\n",
      "88     1\n",
      "89     1\n",
      "90     1\n",
      "91     1\n",
      "92     3\n",
      "93     1\n",
      "94     3\n",
      "95     2\n",
      "96     2\n",
      "97     2\n",
      "98     3\n",
      "99     1\n",
      "100    1\n",
      "101    1\n",
      "102    2\n",
      "103    1\n",
      "104    1\n",
      "105    1\n",
      "106    1\n",
      "107    3\n",
      "108    1\n",
      "109    1\n",
      "110    1\n",
      "111    3\n",
      "112    1\n",
      "113    1\n",
      "114    1\n",
      "115    1\n",
      "116    2\n",
      "117    1\n",
      "Length: 118, dtype: int64\n"
     ]
    }
   ],
   "source": [
    "predicted_origins = testing_probs.idxmax(axis=1)\n",
    "print(predicted_origins)"
   ]
  },
  {
   "cell_type": "markdown",
   "metadata": {},
   "source": [
    "#### Overfitting\n",
    "\n",
    "Below going to explore how to identify the overfitting data, for this i am going to use the dataset on cars \n",
    "\n",
    "which contains 7 numerical features that could have an effect on a car's fuel efficiency:\n",
    "\n",
    "- cylinders -- the number of cylinders in the engine.\n",
    "- displacement -- the displacement of the engine.\n",
    "- horsepower -- the horsepower of the engine.\n",
    "- weight -- the weight of the car.\n",
    "- acceleration -- the acceleration of the car.\n",
    "- model year -- the year that car model was released (e.g. 70 corresponds to 1970).\n",
    "- origin -- where the car was manufactured (0 if North America, 1 if Europe, 2 if Asia).\n",
    "\n",
    "The mpg column is going to be our target column"
   ]
  },
  {
   "cell_type": "code",
   "execution_count": 11,
   "metadata": {
    "scrolled": false
   },
   "outputs": [
    {
     "data": {
      "text/html": [
       "<div>\n",
       "<style scoped>\n",
       "    .dataframe tbody tr th:only-of-type {\n",
       "        vertical-align: middle;\n",
       "    }\n",
       "\n",
       "    .dataframe tbody tr th {\n",
       "        vertical-align: top;\n",
       "    }\n",
       "\n",
       "    .dataframe thead th {\n",
       "        text-align: right;\n",
       "    }\n",
       "</style>\n",
       "<table border=\"1\" class=\"dataframe\">\n",
       "  <thead>\n",
       "    <tr style=\"text-align: right;\">\n",
       "      <th></th>\n",
       "      <th>mpg</th>\n",
       "      <th>cylinders</th>\n",
       "      <th>displacement</th>\n",
       "      <th>horsepower</th>\n",
       "      <th>weight</th>\n",
       "      <th>acceleration</th>\n",
       "      <th>model year</th>\n",
       "      <th>origin</th>\n",
       "      <th>car name</th>\n",
       "    </tr>\n",
       "  </thead>\n",
       "  <tbody>\n",
       "    <tr>\n",
       "      <th>0</th>\n",
       "      <td>18.0</td>\n",
       "      <td>8</td>\n",
       "      <td>307.0</td>\n",
       "      <td>130.0</td>\n",
       "      <td>3504.0</td>\n",
       "      <td>12.0</td>\n",
       "      <td>70</td>\n",
       "      <td>1</td>\n",
       "      <td>chevrolet chevelle malibu</td>\n",
       "    </tr>\n",
       "    <tr>\n",
       "      <th>1</th>\n",
       "      <td>15.0</td>\n",
       "      <td>8</td>\n",
       "      <td>350.0</td>\n",
       "      <td>165.0</td>\n",
       "      <td>3693.0</td>\n",
       "      <td>11.5</td>\n",
       "      <td>70</td>\n",
       "      <td>1</td>\n",
       "      <td>buick skylark 320</td>\n",
       "    </tr>\n",
       "    <tr>\n",
       "      <th>2</th>\n",
       "      <td>18.0</td>\n",
       "      <td>8</td>\n",
       "      <td>318.0</td>\n",
       "      <td>150.0</td>\n",
       "      <td>3436.0</td>\n",
       "      <td>11.0</td>\n",
       "      <td>70</td>\n",
       "      <td>1</td>\n",
       "      <td>plymouth satellite</td>\n",
       "    </tr>\n",
       "    <tr>\n",
       "      <th>3</th>\n",
       "      <td>16.0</td>\n",
       "      <td>8</td>\n",
       "      <td>304.0</td>\n",
       "      <td>150.0</td>\n",
       "      <td>3433.0</td>\n",
       "      <td>12.0</td>\n",
       "      <td>70</td>\n",
       "      <td>1</td>\n",
       "      <td>amc rebel sst</td>\n",
       "    </tr>\n",
       "    <tr>\n",
       "      <th>4</th>\n",
       "      <td>17.0</td>\n",
       "      <td>8</td>\n",
       "      <td>302.0</td>\n",
       "      <td>140.0</td>\n",
       "      <td>3449.0</td>\n",
       "      <td>10.5</td>\n",
       "      <td>70</td>\n",
       "      <td>1</td>\n",
       "      <td>ford torino</td>\n",
       "    </tr>\n",
       "  </tbody>\n",
       "</table>\n",
       "</div>"
      ],
      "text/plain": [
       "    mpg  cylinders  displacement horsepower  weight  acceleration  model year  \\\n",
       "0  18.0          8         307.0      130.0  3504.0          12.0          70   \n",
       "1  15.0          8         350.0      165.0  3693.0          11.5          70   \n",
       "2  18.0          8         318.0      150.0  3436.0          11.0          70   \n",
       "3  16.0          8         304.0      150.0  3433.0          12.0          70   \n",
       "4  17.0          8         302.0      140.0  3449.0          10.5          70   \n",
       "\n",
       "   origin                   car name  \n",
       "0       1  chevrolet chevelle malibu  \n",
       "1       1          buick skylark 320  \n",
       "2       1         plymouth satellite  \n",
       "3       1              amc rebel sst  \n",
       "4       1                ford torino  "
      ]
     },
     "execution_count": 11,
     "metadata": {},
     "output_type": "execute_result"
    }
   ],
   "source": [
    "columns=[\"mpg\", \"cylinders\", \"displacement\", \"horsepower\", \"weight\", \"acceleration\", \"model year\", \"origin\", \"car name\"]\n",
    "cars=pd.read_csv(\"auto-mpg.data\",delim_whitespace=True,names=columns)\n",
    "cars.head()"
   ]
  },
  {
   "cell_type": "code",
   "execution_count": 12,
   "metadata": {},
   "outputs": [
    {
     "name": "stdout",
     "output_type": "stream",
     "text": [
      "<class 'pandas.core.frame.DataFrame'>\n",
      "RangeIndex: 398 entries, 0 to 397\n",
      "Data columns (total 9 columns):\n",
      "mpg             398 non-null float64\n",
      "cylinders       398 non-null int64\n",
      "displacement    398 non-null float64\n",
      "horsepower      398 non-null object\n",
      "weight          398 non-null float64\n",
      "acceleration    398 non-null float64\n",
      "model year      398 non-null int64\n",
      "origin          398 non-null int64\n",
      "car name        398 non-null object\n",
      "dtypes: float64(4), int64(3), object(2)\n",
      "memory usage: 28.1+ KB\n"
     ]
    }
   ],
   "source": [
    "cars.info()"
   ]
  },
  {
   "cell_type": "code",
   "execution_count": 13,
   "metadata": {
    "scrolled": true
   },
   "outputs": [
    {
     "data": {
      "text/html": [
       "<div>\n",
       "<style scoped>\n",
       "    .dataframe tbody tr th:only-of-type {\n",
       "        vertical-align: middle;\n",
       "    }\n",
       "\n",
       "    .dataframe tbody tr th {\n",
       "        vertical-align: top;\n",
       "    }\n",
       "\n",
       "    .dataframe thead th {\n",
       "        text-align: right;\n",
       "    }\n",
       "</style>\n",
       "<table border=\"1\" class=\"dataframe\">\n",
       "  <thead>\n",
       "    <tr style=\"text-align: right;\">\n",
       "      <th></th>\n",
       "      <th>mpg</th>\n",
       "      <th>cylinders</th>\n",
       "      <th>displacement</th>\n",
       "      <th>horsepower</th>\n",
       "      <th>weight</th>\n",
       "      <th>acceleration</th>\n",
       "      <th>model year</th>\n",
       "      <th>origin</th>\n",
       "      <th>car name</th>\n",
       "    </tr>\n",
       "  </thead>\n",
       "  <tbody>\n",
       "    <tr>\n",
       "      <th>32</th>\n",
       "      <td>25.0</td>\n",
       "      <td>4</td>\n",
       "      <td>98.0</td>\n",
       "      <td>?</td>\n",
       "      <td>2046.0</td>\n",
       "      <td>19.0</td>\n",
       "      <td>71</td>\n",
       "      <td>1</td>\n",
       "      <td>ford pinto</td>\n",
       "    </tr>\n",
       "    <tr>\n",
       "      <th>126</th>\n",
       "      <td>21.0</td>\n",
       "      <td>6</td>\n",
       "      <td>200.0</td>\n",
       "      <td>?</td>\n",
       "      <td>2875.0</td>\n",
       "      <td>17.0</td>\n",
       "      <td>74</td>\n",
       "      <td>1</td>\n",
       "      <td>ford maverick</td>\n",
       "    </tr>\n",
       "    <tr>\n",
       "      <th>330</th>\n",
       "      <td>40.9</td>\n",
       "      <td>4</td>\n",
       "      <td>85.0</td>\n",
       "      <td>?</td>\n",
       "      <td>1835.0</td>\n",
       "      <td>17.3</td>\n",
       "      <td>80</td>\n",
       "      <td>2</td>\n",
       "      <td>renault lecar deluxe</td>\n",
       "    </tr>\n",
       "    <tr>\n",
       "      <th>336</th>\n",
       "      <td>23.6</td>\n",
       "      <td>4</td>\n",
       "      <td>140.0</td>\n",
       "      <td>?</td>\n",
       "      <td>2905.0</td>\n",
       "      <td>14.3</td>\n",
       "      <td>80</td>\n",
       "      <td>1</td>\n",
       "      <td>ford mustang cobra</td>\n",
       "    </tr>\n",
       "    <tr>\n",
       "      <th>354</th>\n",
       "      <td>34.5</td>\n",
       "      <td>4</td>\n",
       "      <td>100.0</td>\n",
       "      <td>?</td>\n",
       "      <td>2320.0</td>\n",
       "      <td>15.8</td>\n",
       "      <td>81</td>\n",
       "      <td>2</td>\n",
       "      <td>renault 18i</td>\n",
       "    </tr>\n",
       "    <tr>\n",
       "      <th>374</th>\n",
       "      <td>23.0</td>\n",
       "      <td>4</td>\n",
       "      <td>151.0</td>\n",
       "      <td>?</td>\n",
       "      <td>3035.0</td>\n",
       "      <td>20.5</td>\n",
       "      <td>82</td>\n",
       "      <td>1</td>\n",
       "      <td>amc concord dl</td>\n",
       "    </tr>\n",
       "  </tbody>\n",
       "</table>\n",
       "</div>"
      ],
      "text/plain": [
       "      mpg  cylinders  displacement horsepower  weight  acceleration  \\\n",
       "32   25.0          4          98.0          ?  2046.0          19.0   \n",
       "126  21.0          6         200.0          ?  2875.0          17.0   \n",
       "330  40.9          4          85.0          ?  1835.0          17.3   \n",
       "336  23.6          4         140.0          ?  2905.0          14.3   \n",
       "354  34.5          4         100.0          ?  2320.0          15.8   \n",
       "374  23.0          4         151.0          ?  3035.0          20.5   \n",
       "\n",
       "     model year  origin              car name  \n",
       "32           71       1            ford pinto  \n",
       "126          74       1         ford maverick  \n",
       "330          80       2  renault lecar deluxe  \n",
       "336          80       1    ford mustang cobra  \n",
       "354          81       2           renault 18i  \n",
       "374          82       1        amc concord dl  "
      ]
     },
     "execution_count": 13,
     "metadata": {},
     "output_type": "execute_result"
    }
   ],
   "source": [
    "cars[cars['horsepower']=='?']"
   ]
  },
  {
   "cell_type": "code",
   "execution_count": 14,
   "metadata": {
    "scrolled": false
   },
   "outputs": [
    {
     "data": {
      "text/html": [
       "<div>\n",
       "<style scoped>\n",
       "    .dataframe tbody tr th:only-of-type {\n",
       "        vertical-align: middle;\n",
       "    }\n",
       "\n",
       "    .dataframe tbody tr th {\n",
       "        vertical-align: top;\n",
       "    }\n",
       "\n",
       "    .dataframe thead th {\n",
       "        text-align: right;\n",
       "    }\n",
       "</style>\n",
       "<table border=\"1\" class=\"dataframe\">\n",
       "  <thead>\n",
       "    <tr style=\"text-align: right;\">\n",
       "      <th></th>\n",
       "      <th>mpg</th>\n",
       "      <th>cylinders</th>\n",
       "      <th>displacement</th>\n",
       "      <th>horsepower</th>\n",
       "      <th>weight</th>\n",
       "      <th>acceleration</th>\n",
       "      <th>model year</th>\n",
       "      <th>origin</th>\n",
       "      <th>car name</th>\n",
       "    </tr>\n",
       "  </thead>\n",
       "  <tbody>\n",
       "    <tr>\n",
       "      <th>0</th>\n",
       "      <td>18.0</td>\n",
       "      <td>8</td>\n",
       "      <td>307.0</td>\n",
       "      <td>130.0</td>\n",
       "      <td>3504.0</td>\n",
       "      <td>12.0</td>\n",
       "      <td>70</td>\n",
       "      <td>1</td>\n",
       "      <td>chevrolet chevelle malibu</td>\n",
       "    </tr>\n",
       "    <tr>\n",
       "      <th>1</th>\n",
       "      <td>15.0</td>\n",
       "      <td>8</td>\n",
       "      <td>350.0</td>\n",
       "      <td>165.0</td>\n",
       "      <td>3693.0</td>\n",
       "      <td>11.5</td>\n",
       "      <td>70</td>\n",
       "      <td>1</td>\n",
       "      <td>buick skylark 320</td>\n",
       "    </tr>\n",
       "    <tr>\n",
       "      <th>2</th>\n",
       "      <td>18.0</td>\n",
       "      <td>8</td>\n",
       "      <td>318.0</td>\n",
       "      <td>150.0</td>\n",
       "      <td>3436.0</td>\n",
       "      <td>11.0</td>\n",
       "      <td>70</td>\n",
       "      <td>1</td>\n",
       "      <td>plymouth satellite</td>\n",
       "    </tr>\n",
       "    <tr>\n",
       "      <th>3</th>\n",
       "      <td>16.0</td>\n",
       "      <td>8</td>\n",
       "      <td>304.0</td>\n",
       "      <td>150.0</td>\n",
       "      <td>3433.0</td>\n",
       "      <td>12.0</td>\n",
       "      <td>70</td>\n",
       "      <td>1</td>\n",
       "      <td>amc rebel sst</td>\n",
       "    </tr>\n",
       "    <tr>\n",
       "      <th>4</th>\n",
       "      <td>17.0</td>\n",
       "      <td>8</td>\n",
       "      <td>302.0</td>\n",
       "      <td>140.0</td>\n",
       "      <td>3449.0</td>\n",
       "      <td>10.5</td>\n",
       "      <td>70</td>\n",
       "      <td>1</td>\n",
       "      <td>ford torino</td>\n",
       "    </tr>\n",
       "  </tbody>\n",
       "</table>\n",
       "</div>"
      ],
      "text/plain": [
       "    mpg  cylinders  displacement  horsepower  weight  acceleration  \\\n",
       "0  18.0          8         307.0       130.0  3504.0          12.0   \n",
       "1  15.0          8         350.0       165.0  3693.0          11.5   \n",
       "2  18.0          8         318.0       150.0  3436.0          11.0   \n",
       "3  16.0          8         304.0       150.0  3433.0          12.0   \n",
       "4  17.0          8         302.0       140.0  3449.0          10.5   \n",
       "\n",
       "   model year  origin                   car name  \n",
       "0          70       1  chevrolet chevelle malibu  \n",
       "1          70       1          buick skylark 320  \n",
       "2          70       1         plymouth satellite  \n",
       "3          70       1              amc rebel sst  \n",
       "4          70       1                ford torino  "
      ]
     },
     "execution_count": 14,
     "metadata": {},
     "output_type": "execute_result"
    }
   ],
   "source": [
    "filtered_cars = cars[cars['horsepower']!='?'].copy()\n",
    "filtered_cars['horsepower'] =filtered_cars['horsepower'].astype('float')\n",
    "filtered_cars.head()"
   ]
  },
  {
   "cell_type": "markdown",
   "metadata": {},
   "source": [
    "An overfit model is having high variance and low bias. First going to create a function and that we can use for training the model and computing the bias and variance values and use it to train some simple, univariate models."
   ]
  },
  {
   "cell_type": "code",
   "execution_count": 15,
   "metadata": {},
   "outputs": [
    {
     "name": "stdout",
     "output_type": "stream",
     "text": [
      "24.020179568155527 36.742558874160174\n",
      "18.6766165974193 42.08612184489641\n"
     ]
    }
   ],
   "source": [
    "def train_and_test(cols):\n",
    "    features= filtered_cars[cols]\n",
    "    target = filtered_cars['mpg']\n",
    "    #fit model\n",
    "    model= LinearRegression()\n",
    "    model.fit(features, target)\n",
    "    #predict\n",
    "    predict_label = model.predict(features)\n",
    "    \n",
    "    mse=mean_squared_error(predict_label, filtered_cars['mpg'])\n",
    "    variance=np.var(predict_label)\n",
    "    \n",
    "    return (mse, variance)\n",
    "\n",
    "cyl_mse,cyl_var= train_and_test(['cylinders'])\n",
    "weight_mse, weight_var= train_and_test([\"weight\"])\n",
    "\n",
    "print(cyl_mse,cyl_var )\n",
    "\n",
    "print(weight_mse, weight_var)"
   ]
  },
  {
   "cell_type": "code",
   "execution_count": 16,
   "metadata": {},
   "outputs": [],
   "source": [
    "## Multivariate models\n",
    "def trian_test_multi(cols):\n",
    "    features= filtered_cars[cols]\n",
    "    target = filtered_cars['mpg']\n",
    "    # Fit model.\n",
    "    lr = LinearRegression()\n",
    "    lr.fit(features, target)\n",
    "    # Make predictions on training set.\n",
    "    predictions = lr.predict(features)\n",
    "    # Compute MSE and Variance.\n",
    "    mse = mean_squared_error(filtered_cars[\"mpg\"], predictions)\n",
    "    variance = np.var(predictions)\n",
    "    return(mse, variance)\n",
    "one_mse, one_var = train_and_test([\"cylinders\"])\n",
    "two_mse, two_var = train_and_test(['cylinders','displacement'])\n",
    "three_mse, three_var = train_and_test([\"cylinders\", \"displacement\", \"horsepower\"])\n",
    "four_mse, four_var = train_and_test([\"cylinders\", \"displacement\", \"horsepower\", \"weight\"])\n",
    "five_mse, five_var = train_and_test([\"cylinders\", \"displacement\", \"horsepower\", \"weight\", \"acceleration\"])\n",
    "six_mse, six_var = train_and_test([\"cylinders\", \"displacement\", \"horsepower\", \"weight\", \"acceleration\", \"model year\"])\n",
    "seven_mse, seven_var = train_and_test([\"cylinders\", \"displacement\", \"horsepower\", \"weight\", \"acceleration\",\"model year\", \"origin\"])\n"
   ]
  },
  {
   "cell_type": "code",
   "execution_count": 17,
   "metadata": {
    "scrolled": true
   },
   "outputs": [
    {
     "name": "stdout",
     "output_type": "stream",
     "text": [
      "24.020179568155527 36.742558874160174\n",
      "21.28205705558636 39.480681386729344\n",
      "20.252954839714235 40.50978360260149\n",
      "17.763860571843846 42.998877870471816\n",
      "17.761396105406217 43.00134233690939\n",
      "11.590170981415225 49.17256746090052\n",
      "10.847480945000445 49.91525749731518\n"
     ]
    }
   ],
   "source": [
    "print(one_mse, one_var)\n",
    "print(two_mse, two_var)\n",
    "print(three_mse, three_var)\n",
    "print(four_mse, four_var )\n",
    "print(five_mse, five_var)\n",
    "print(six_mse, six_var )\n",
    "print(seven_mse, seven_var)"
   ]
  },
  {
   "cell_type": "markdown",
   "metadata": {},
   "source": [
    "The  mutlivariate regression model that trained  got progressively better at reducing the amount of error.\n",
    "\n",
    "#### Cross validation\n",
    "A good way to detect if the model is overfitting is to compare 'in sample error' and 'out sample error' or with test error the training error, Above we did in sample error by testing the sample over the same data it was trained on.\n",
    "\n",
    "To calculate the out sample error we need to test the data on testset of data, if we doesn't have a seperate test data,use instead a cross validation.\n",
    "\n",
    "if the cross validation error is higher than the in sample error then the trianed model doesn't genralize well outside of the training set.the data is overfitting"
   ]
  },
  {
   "cell_type": "code",
   "execution_count": 18,
   "metadata": {},
   "outputs": [],
   "source": [
    "def train_and_cross_val(cols):\n",
    "    features= filtered_cars[cols]\n",
    "    target = filtered_cars['mpg']\n",
    "    variance_values =[]\n",
    "    mse_values =[]\n",
    "    #KFold instance.\n",
    "    kf= KFold(n_splits=10, shuffle=True, random_state=3)\n",
    "    \n",
    "    # Iterate through over each fold.\n",
    "    for train_index, test_index in kf.split(features):\n",
    "        X_train, X_test = features.iloc[train_index],features.iloc[test_index]\n",
    "        Y_train, Y_test = target.iloc[train_index], target.iloc[test_index]\n",
    "        \n",
    "        # Fit the model and make predictions.\n",
    "        lr=LinearRegression()\n",
    "        lr.fit(X_train, Y_train)\n",
    "        predictions= lr.predict(X_test)\n",
    "        \n",
    "        \n",
    "        # Calculate mse and variance values for this fold.\n",
    "        mse= mean_squared_error(predictions,Y_test)\n",
    "        variance = np.var(predictions)\n",
    "        \n",
    "         # Append to arrays to do calculate overall average mse and variance values.\n",
    "        variance_values.append(variance)\n",
    "        mse_values.append(mse)\n",
    "        \n",
    "        #calculate overall average mse and variance values\n",
    "        avg_mse = np.mean(mse_values)\n",
    "        avg_var= np.mean(mse_values)\n",
    "        return(avg_mse, avg_var)\n",
    "\n",
    "        \n",
    "two_mse, two_var = train_and_cross_val([\"cylinders\", \"displacement\"])\n",
    "three_mse, three_var = train_and_cross_val([\"cylinders\", \"displacement\", \"horsepower\"])\n",
    "four_mse, four_var = train_and_cross_val([\"cylinders\", \"displacement\", \"horsepower\", \"weight\"])\n",
    "five_mse, five_var = train_and_cross_val([\"cylinders\", \"displacement\", \"horsepower\", \"weight\", \"acceleration\"])\n",
    "six_mse, six_var = train_and_cross_val([\"cylinders\", \"displacement\", \"horsepower\", \"weight\", \"acceleration\", \"model year\"])\n",
    "seven_mse, seven_var = train_and_cross_val([\"cylinders\", \"displacement\", \"horsepower\", \"weight\", \"acceleration\",\"model year\", \"origin\"])\n",
    "        \n",
    "        "
   ]
  },
  {
   "cell_type": "code",
   "execution_count": 19,
   "metadata": {},
   "outputs": [
    {
     "name": "stdout",
     "output_type": "stream",
     "text": [
      "18.29758046065182 18.29758046065182\n",
      "17.766765554739187 17.766765554739187\n",
      "15.196429975457331 15.196429975457331\n",
      "15.205865303980413 15.205865303980413\n",
      "11.206989929308799 11.206989929308799\n",
      "11.749164209759364 11.749164209759364\n"
     ]
    }
   ],
   "source": [
    "print(two_mse, two_var)\n",
    "print(three_mse, three_var)\n",
    "print(four_mse, four_var )\n",
    "print(five_mse, five_var)\n",
    "print(six_mse, six_var )\n",
    "print(seven_mse, seven_var)"
   ]
  }
 ],
 "metadata": {
  "kernelspec": {
   "display_name": "Python 3",
   "language": "python",
   "name": "python3"
  },
  "language_info": {
   "codemirror_mode": {
    "name": "ipython",
    "version": 3
   },
   "file_extension": ".py",
   "mimetype": "text/x-python",
   "name": "python",
   "nbconvert_exporter": "python",
   "pygments_lexer": "ipython3",
   "version": "3.7.3"
  }
 },
 "nbformat": 4,
 "nbformat_minor": 2
}
